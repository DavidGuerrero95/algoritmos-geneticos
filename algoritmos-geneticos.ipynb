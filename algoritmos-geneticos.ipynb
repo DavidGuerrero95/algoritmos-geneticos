{
 "cells": [
  {
   "cell_type": "code",
   "execution_count": 74,
   "metadata": {},
   "outputs": [],
   "source": [
    "######### Importe librerias #########\n",
    "import numpy as np\n",
    "import math"
   ]
  },
  {
   "cell_type": "code",
   "execution_count": 75,
   "metadata": {},
   "outputs": [],
   "source": [
    "######### Definicion valores #########\n",
    "n = 5\n",
    "tamaño_poblacion = 30\n",
    "numero_conexiones = int((n+1)*(n)/2)\n",
    "posiciones = [np.array([0,0]) if i == 0 else np.random.randint(-30,30,2) for i in range(n+1)]\n",
    "distancias = []\n",
    "for i in range(0,len(posiciones)):\n",
    "    for j in range(i,len(posiciones)):\n",
    "        if(j != i):\n",
    "            distancias.append(math.dist(posiciones[i],posiciones[j]))"
   ]
  },
  {
   "cell_type": "code",
   "execution_count": 76,
   "metadata": {},
   "outputs": [],
   "source": [
    "######### Poblacion inicial #########\n",
    "poblacion_inicial = np.random.randint(0,2,[tamaño_poblacion,numero_conexiones] )"
   ]
  },
  {
   "cell_type": "code",
   "execution_count": 81,
   "metadata": {},
   "outputs": [
    {
     "name": "stdout",
     "output_type": "stream",
     "text": [
      "[1 0 1 0 0 0 0 0 0 1 1 0 1 1 0]\n",
      "[0. 1. 2. 2. 1.]\n",
      "[[0. 0. 0. 0. 0.]\n",
      " [0. 1. 1. 1. 0.]\n",
      " [0. 0. 1. 1. 1.]\n",
      " [0. 0. 0. 0. 0.]\n",
      " [1. 0. 1. 0. 0.]]\n",
      "False True\n"
     ]
    }
   ],
   "source": [
    "######### \n",
    "genotipo = poblacion_inicial[0]\n",
    "print(genotipo)\n",
    "penalizacion_central = False\n",
    "central = genotipo[:n]\n",
    "penalizacion_desconexion = False\n",
    "n_indice = n\n",
    "indice_inicial = 0\n",
    "indice_final = n_indice\n",
    "matriz_indices = np.zeros([n,n])\n",
    "for i in range(n):\n",
    "    contador = 0\n",
    "    valor = genotipo[indice_inicial:indice_final]\n",
    "    if i == 0:\n",
    "        central = valor\n",
    "        matriz_indices[n-1] = central\n",
    "        if(sum(central) == 0):\n",
    "            penalizacion_central = True\n",
    "    else:\n",
    "        for j in valor:\n",
    "            if j == 1:\n",
    "                matriz_indices[i-1][i-1] = 1\n",
    "                matriz_indices[i-1][i+contador] = 1\n",
    "            contador += 1\n",
    "    n_indice -= 1\n",
    "    indice_inicial = indice_final\n",
    "    indice_final = indice_final + n_indice\n",
    "busqueda_error = np.sum(matriz_indices[:-1], axis=0)\n",
    "print(busqueda_error)\n",
    "if 0 in busqueda_error:\n",
    "    penalizacion_desconexion = True\n",
    "print(matriz_indices)\n",
    "print(penalizacion_central,penalizacion_desconexion)\n",
    "\n",
    "    "
   ]
  },
  {
   "cell_type": "code",
   "execution_count": null,
   "metadata": {},
   "outputs": [],
   "source": [
    "fila2 = poblacion_inicial[5]\n",
    "n2 = n\n",
    "fila = fila2.copy()\n",
    "fila = fila.tolist()\n",
    "conexiones = np.zeros(n)\n",
    "conexiones_centro = np.zeros(n)\n",
    "print(fila)\n",
    "centros = fila[:n]\n",
    "\n",
    "centros_flag = False\n",
    "nodoFlag = False\n",
    "if (np.sum(centros)== 0):\n",
    "    centros_flag = True\n",
    "else:\n",
    "    for i in range(len(centros)):\n",
    "        if centros[i] == 1:\n",
    "            conexiones_centro[i] = 1\n",
    "\n",
    "del fila [0:n2]\n",
    "\n",
    "if not centros_flag:\n",
    "    for i in range(n2-1):\n",
    "        n2 -=1 \n",
    "        nodo = fila[0:n2]\n",
    "        for j in range(len(nodo)):\n",
    "            if nodo[j]==1:\n",
    "                conexiones[i] = 1\n",
    "                conexiones[j+i] = 1\n",
    "        del fila [0:n2]\n",
    "else:\n",
    "    nodoFlag = True\n",
    "\n",
    "print(conexiones)\n",
    "print(conexiones_centro)\n",
    "print(f'bandera 1: {centros_flag}, bandera 2: {nodoFlag}')"
   ]
  },
  {
   "cell_type": "code",
   "execution_count": null,
   "metadata": {},
   "outputs": [],
   "source": []
  }
 ],
 "metadata": {
  "kernelspec": {
   "display_name": "Python 3.8.10 64-bit",
   "language": "python",
   "name": "python3"
  },
  "language_info": {
   "codemirror_mode": {
    "name": "ipython",
    "version": 3
   },
   "file_extension": ".py",
   "mimetype": "text/x-python",
   "name": "python",
   "nbconvert_exporter": "python",
   "pygments_lexer": "ipython3",
   "version": "3.8.10"
  },
  "orig_nbformat": 4,
  "vscode": {
   "interpreter": {
    "hash": "916dbcbb3f70747c44a77c7bcd40155683ae19c65e1c03b4aa3499c5328201f1"
   }
  }
 },
 "nbformat": 4,
 "nbformat_minor": 2
}
