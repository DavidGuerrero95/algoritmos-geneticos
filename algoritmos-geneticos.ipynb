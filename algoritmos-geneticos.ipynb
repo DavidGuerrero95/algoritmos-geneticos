{
 "cells": [
  {
   "cell_type": "code",
   "execution_count": 362,
   "metadata": {},
   "outputs": [],
   "source": [
    "import numpy as np\n",
    "import math"
   ]
  },
  {
   "cell_type": "code",
   "execution_count": 363,
   "metadata": {},
   "outputs": [
    {
     "data": {
      "text/plain": [
       "[array([0, 0]),\n",
       " array([-30, -26]),\n",
       " array([-18,  25]),\n",
       " array([  5, -12]),\n",
       " array([  1, -30]),\n",
       " array([17,  5])]"
      ]
     },
     "execution_count": 363,
     "metadata": {},
     "output_type": "execute_result"
    }
   ],
   "source": [
    "n = 5\n",
    "tamaño_poblacion = 30\n",
    "numero_conexiones = int((n+1)*(n)/2)\n",
    "posiciones = [np.array([0,0]) if i == 0 else np.random.randint(-30,30,2) for i in range(n+1)]\n",
    "posiciones"
   ]
  },
  {
   "cell_type": "code",
   "execution_count": 364,
   "metadata": {},
   "outputs": [
    {
     "name": "stdout",
     "output_type": "stream",
     "text": [
      "15\n",
      "[39.698866482558415, 30.80584360149873, 13.0, 30.01666203960727, 17.720045146669353, 52.39274758971894, 37.696153649941536, 31.256999216175565, 56.302753041036986, 43.56604182158394, 58.189346103904626, 40.311288741492746, 18.439088914585778, 20.808652046684813, 38.48376280978771]\n"
     ]
    }
   ],
   "source": [
    "distancias = []\n",
    "for i in range(0,len(posiciones)):\n",
    "    for j in range(i,len(posiciones)):\n",
    "        if(j != i):\n",
    "            distancias.append(math.dist(posiciones[i],posiciones[j]))\n",
    "print(len(distancias))\n",
    "print(distancias)"
   ]
  },
  {
   "cell_type": "code",
   "execution_count": 365,
   "metadata": {},
   "outputs": [],
   "source": [
    "poblacion_inicial = np.random.randint(0,2,[tamaño_poblacion,numero_conexiones] )"
   ]
  },
  {
   "cell_type": "code",
   "execution_count": 366,
   "metadata": {},
   "outputs": [
    {
     "data": {
      "text/plain": [
       "array([0, 0, 0, 1, 0, 0, 1, 1, 1, 0, 0, 1, 0, 0, 0])"
      ]
     },
     "execution_count": 366,
     "metadata": {},
     "output_type": "execute_result"
    }
   ],
   "source": [
    "fila = poblacion_inicial[0]\n",
    "suma = sum(fila[:n])\n",
    "penalizacion = False\n",
    "if(suma == 0):\n",
    "    penalizacion = True\n",
    "'''for i in range(n-1):\n",
    "    conta = 1\n",
    "    suma = fila[indice_inicial:indice_final]\n",
    "    indice_inicial = indice_final\n",
    "    indice_final = indice_inicial+indice_inicial-1\n",
    "    print(suma)'''\n",
    "\n",
    "fila"
   ]
  },
  {
   "cell_type": "code",
   "execution_count": 376,
   "metadata": {},
   "outputs": [
    {
     "name": "stdout",
     "output_type": "stream",
     "text": [
      "[0, 0, 1, 0, 1, 1, 1, 0, 1, 1, 1, 1, 0, 0, 0]\n",
      "[1. 1. 1. 1. 0.]\n",
      "[0. 0. 1. 0. 1.]\n",
      "bandera 1: False, bandera 2: False\n"
     ]
    }
   ],
   "source": [
    "fila2 = poblacion_inicial[5]\n",
    "n2 = n\n",
    "fila = fila2.copy()\n",
    "fila = fila.tolist()\n",
    "conexiones = np.zeros(n)\n",
    "conexiones_centro = np.zeros(n)\n",
    "print(fila)\n",
    "centros = fila[:n]\n",
    "\n",
    "centros_flag = False\n",
    "nodoFlag = False\n",
    "if (np.sum(centros)== 0):\n",
    "    centros_flag = True\n",
    "else:\n",
    "    for i in range(len(centros)):\n",
    "        if centros[i] == 1:\n",
    "            conexiones_centro[i] = 1\n",
    "\n",
    "del fila [0:n2]\n",
    "\n",
    "if not centros_flag:\n",
    "    for i in range(n2-1):\n",
    "        n2 -=1 \n",
    "        nodo = fila[0:n2]\n",
    "        for j in range(len(nodo)):\n",
    "            if nodo[j]==1:\n",
    "                conexiones[i] = 1\n",
    "                conexiones[j+i] = 1\n",
    "        del fila [0:n2]\n",
    "else:\n",
    "    nodoFlag = True\n",
    "\n",
    "print(conexiones)\n",
    "print(conexiones_centro)\n",
    "print(f'bandera 1: {centros_flag}, bandera 2: {nodoFlag}')"
   ]
  },
  {
   "cell_type": "code",
   "execution_count": null,
   "metadata": {},
   "outputs": [],
   "source": []
  }
 ],
 "metadata": {
  "kernelspec": {
   "display_name": "Python 3.8.10 64-bit",
   "language": "python",
   "name": "python3"
  },
  "language_info": {
   "codemirror_mode": {
    "name": "ipython",
    "version": 3
   },
   "file_extension": ".py",
   "mimetype": "text/x-python",
   "name": "python",
   "nbconvert_exporter": "python",
   "pygments_lexer": "ipython3",
   "version": "3.8.10"
  },
  "orig_nbformat": 4,
  "vscode": {
   "interpreter": {
    "hash": "916dbcbb3f70747c44a77c7bcd40155683ae19c65e1c03b4aa3499c5328201f1"
   }
  }
 },
 "nbformat": 4,
 "nbformat_minor": 2
}
