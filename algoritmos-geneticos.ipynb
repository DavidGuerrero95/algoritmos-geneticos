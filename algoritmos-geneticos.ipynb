{
 "cells": [
  {
   "cell_type": "code",
   "execution_count": 46,
   "metadata": {},
   "outputs": [],
   "source": [
    "######### Importe librerias #########\n",
    "import numpy as np\n",
    "import math\n",
    "import pandas as pd"
   ]
  },
  {
   "cell_type": "code",
   "execution_count": 3,
   "metadata": {},
   "outputs": [],
   "source": [
    "######### Definicion valores #########\n",
    "n = 5\n",
    "tamaño_poblacion = 30\n",
    "probabilidad_cruce = 0.2\n",
    "numero_conexiones = int((n+1)*(n)/2)\n",
    "posiciones = [np.array([0,0]) if i == 0 else np.random.randint(-30,30,2) for i in range(n+1)]\n",
    "distancias = []\n",
    "for i in range(0,len(posiciones)):\n",
    "    for j in range(i,len(posiciones)):\n",
    "        if(j != i):\n",
    "            distancias.append(math.dist(posiciones[i],posiciones[j]))"
   ]
  },
  {
   "cell_type": "code",
   "execution_count": 4,
   "metadata": {},
   "outputs": [],
   "source": [
    "######### Poblacion inicial #########\n",
    "poblacion_inicial = np.random.randint(0,2,[tamaño_poblacion,numero_conexiones])"
   ]
  },
  {
   "cell_type": "code",
   "execution_count": 19,
   "metadata": {},
   "outputs": [],
   "source": [
    "######### Funcion error #########\n",
    "def funciones_penalizacion(genotipo):\n",
    "    #genotipo = poblacion_inicial[0]\n",
    "    #print(genotipo)\n",
    "    penalizacion_central = False\n",
    "    central = genotipo[:n]\n",
    "    penalizacion_desconexion = False\n",
    "    n_indice = n\n",
    "    indice_inicial = 0\n",
    "    indice_final = n_indice\n",
    "    matriz_indices = np.zeros([n,n])\n",
    "    for i in range(n):\n",
    "        contador = 0\n",
    "        valor = genotipo[indice_inicial:indice_final]\n",
    "        if i == 0:\n",
    "            central = valor\n",
    "            matriz_indices[n-1] = central\n",
    "            if(sum(central) == 0):\n",
    "                penalizacion_central = True\n",
    "        else:\n",
    "            for j in valor:\n",
    "                if j == 1:\n",
    "                    matriz_indices[i-1][i-1] = 1\n",
    "                    matriz_indices[i-1][i+contador] = 1\n",
    "                contador += 1\n",
    "        n_indice -= 1\n",
    "        indice_inicial = indice_final\n",
    "        indice_final = indice_final + n_indice\n",
    "    busqueda_error = np.sum(matriz_indices, axis=0)\n",
    "    #print(busqueda_error)\n",
    "    if 0 in busqueda_error:\n",
    "        penalizacion_desconexion = True\n",
    "    #print(matriz_indices)\n",
    "    #print(penalizacion_central,penalizacion_desconexion)\n",
    "    return penalizacion_central or penalizacion_desconexion\n",
    "\n",
    "    "
   ]
  },
  {
   "cell_type": "code",
   "execution_count": 22,
   "metadata": {},
   "outputs": [],
   "source": [
    "vector_penalizacion = []        \n",
    "for i in poblacion_inicial: ## verifica conexiones\n",
    "    vector_penalizacion.append(funciones_penalizacion(i))\n",
    "penalizacion = [2000 if i else 1 for i in vector_penalizacion] ## Penaliza con un valor de 2000 si no se hacen todas las conexiones"
   ]
  },
  {
   "cell_type": "code",
   "execution_count": 51,
   "metadata": {},
   "outputs": [
    {
     "data": {
      "text/html": [
       "<div>\n",
       "<style scoped>\n",
       "    .dataframe tbody tr th:only-of-type {\n",
       "        vertical-align: middle;\n",
       "    }\n",
       "\n",
       "    .dataframe tbody tr th {\n",
       "        vertical-align: top;\n",
       "    }\n",
       "\n",
       "    .dataframe thead th {\n",
       "        text-align: right;\n",
       "    }\n",
       "</style>\n",
       "<table border=\"1\" class=\"dataframe\">\n",
       "  <thead>\n",
       "    <tr style=\"text-align: right;\">\n",
       "      <th></th>\n",
       "      <th>fitness</th>\n",
       "      <th>f/sum</th>\n",
       "      <th>Max</th>\n",
       "      <th>fi/f * tpobl</th>\n",
       "    </tr>\n",
       "  </thead>\n",
       "  <tbody>\n",
       "    <tr>\n",
       "      <th>0</th>\n",
       "      <td>194.079051</td>\n",
       "      <td>0.000125</td>\n",
       "      <td>0.999875</td>\n",
       "      <td>29.996259</td>\n",
       "    </tr>\n",
       "    <tr>\n",
       "      <th>1</th>\n",
       "      <td>138429.630248</td>\n",
       "      <td>0.088951</td>\n",
       "      <td>0.911049</td>\n",
       "      <td>27.331477</td>\n",
       "    </tr>\n",
       "    <tr>\n",
       "      <th>2</th>\n",
       "      <td>191.725847</td>\n",
       "      <td>0.000123</td>\n",
       "      <td>0.999877</td>\n",
       "      <td>29.996304</td>\n",
       "    </tr>\n",
       "    <tr>\n",
       "      <th>3</th>\n",
       "      <td>296890.952667</td>\n",
       "      <td>0.190773</td>\n",
       "      <td>0.809227</td>\n",
       "      <td>24.276801</td>\n",
       "    </tr>\n",
       "    <tr>\n",
       "      <th>4</th>\n",
       "      <td>264.240364</td>\n",
       "      <td>0.000170</td>\n",
       "      <td>0.999830</td>\n",
       "      <td>29.994906</td>\n",
       "    </tr>\n",
       "  </tbody>\n",
       "</table>\n",
       "</div>"
      ],
      "text/plain": [
       "         fitness     f/sum       Max  fi/f * tpobl\n",
       "0     194.079051  0.000125  0.999875     29.996259\n",
       "1  138429.630248  0.088951  0.911049     27.331477\n",
       "2     191.725847  0.000123  0.999877     29.996304\n",
       "3  296890.952667  0.190773  0.809227     24.276801\n",
       "4     264.240364  0.000170  0.999830     29.994906"
      ]
     },
     "execution_count": 51,
     "metadata": {},
     "output_type": "execute_result"
    }
   ],
   "source": [
    "def metricas(poblacion,distancias):\n",
    "    fitness = np.dot(poblacion_inicial,distancias)  ## Calcula funcion fitness\n",
    "    fitness = fitness*penalizacion\n",
    "    fitness_generacion = fitness.sum()\n",
    "    fitness_average = fitness/fitness_generacion\n",
    "    suma_fitness_average = fitness_average.sum()\n",
    "    maximo_fitness = 1-fitness_average\n",
    "    ponderado = maximo_fitness*tamaño_poblacion\n",
    "    tabla_promedio = pd.DataFrame({'fitness':fitness,'f/sum':fitness_average,'Max':maximo_fitness,'fi/f * tpobl':ponderado_poblacion})\n",
    "    tabla_promedio.head()\n",
    "    return ponderado,fitness_generacion\n",
    "### lo importante es ...\n"
   ]
  },
  {
   "cell_type": "code",
   "execution_count": 64,
   "metadata": {},
   "outputs": [
    {
     "data": {
      "text/plain": [
       "array([[0., 0., 1., 0., 1., 0., 1., 1., 0., 1., 0., 0., 1., 0., 0.],\n",
       "       [1., 1., 0., 0., 0., 0., 1., 1., 1., 1., 0., 0., 0., 0., 1.],\n",
       "       [1., 0., 1., 1., 1., 1., 1., 0., 1., 0., 0., 1., 0., 0., 1.],\n",
       "       [0., 1., 0., 1., 1., 1., 1., 1., 1., 0., 0., 0., 0., 1., 1.],\n",
       "       [0., 1., 1., 0., 1., 0., 1., 0., 0., 0., 0., 1., 1., 0., 1.],\n",
       "       [1., 0., 1., 0., 0., 0., 0., 0., 0., 1., 0., 1., 1., 1., 1.],\n",
       "       [1., 0., 0., 0., 0., 0., 1., 0., 1., 1., 0., 1., 0., 1., 1.],\n",
       "       [1., 0., 1., 0., 1., 1., 1., 1., 1., 0., 0., 1., 0., 1., 0.],\n",
       "       [1., 0., 0., 1., 1., 0., 0., 0., 1., 1., 1., 1., 0., 1., 1.],\n",
       "       [1., 0., 1., 1., 1., 1., 1., 1., 0., 0., 0., 1., 1., 0., 1.],\n",
       "       [1., 1., 1., 1., 1., 1., 1., 0., 1., 1., 0., 1., 0., 1., 1.],\n",
       "       [1., 1., 1., 0., 1., 0., 1., 1., 1., 1., 0., 0., 1., 1., 1.],\n",
       "       [0., 1., 0., 0., 1., 1., 0., 1., 0., 1., 0., 0., 0., 0., 0.],\n",
       "       [1., 1., 1., 0., 0., 0., 0., 0., 1., 0., 0., 0., 0., 0., 1.],\n",
       "       [0., 1., 0., 0., 0., 1., 0., 1., 0., 1., 0., 1., 0., 0., 1.],\n",
       "       [1., 0., 0., 0., 1., 1., 0., 0., 0., 0., 1., 1., 0., 1., 1.],\n",
       "       [1., 1., 0., 0., 0., 1., 0., 0., 0., 1., 0., 1., 1., 1., 0.],\n",
       "       [0., 0., 0., 1., 0., 1., 0., 1., 0., 1., 0., 0., 1., 1., 1.],\n",
       "       [1., 1., 0., 1., 0., 1., 0., 0., 1., 1., 0., 0., 1., 1., 0.],\n",
       "       [1., 1., 0., 1., 0., 1., 0., 1., 1., 0., 0., 1., 1., 1., 0.],\n",
       "       [0., 0., 0., 1., 0., 1., 0., 0., 1., 1., 1., 1., 1., 1., 0.],\n",
       "       [0., 1., 1., 0., 0., 0., 1., 0., 1., 1., 0., 0., 0., 0., 1.],\n",
       "       [1., 0., 0., 0., 1., 1., 1., 0., 1., 0., 0., 1., 0., 1., 1.],\n",
       "       [0., 0., 0., 1., 1., 0., 1., 0., 0., 0., 1., 0., 1., 1., 1.],\n",
       "       [0., 0., 0., 1., 1., 0., 1., 0., 1., 1., 0., 1., 1., 0., 0.],\n",
       "       [0., 0., 1., 0., 1., 0., 1., 1., 0., 1., 0., 0., 1., 0., 0.],\n",
       "       [1., 1., 0., 0., 0., 0., 1., 1., 1., 1., 0., 0., 0., 0., 1.],\n",
       "       [1., 0., 1., 1., 1., 1., 1., 0., 1., 0., 0., 1., 0., 0., 1.],\n",
       "       [0., 1., 0., 1., 1., 1., 1., 1., 1., 0., 0., 0., 0., 1., 1.],\n",
       "       [0., 1., 1., 0., 1., 0., 1., 0., 0., 0., 0., 1., 1., 0., 1.]])"
      ]
     },
     "execution_count": 64,
     "metadata": {},
     "output_type": "execute_result"
    }
   ],
   "source": [
    "poblacion_intermedia = np.zeros([tamaño_poblacion,numero_conexiones])\n",
    "for i in range(len(ponderado_poblacion)):\n",
    "    indice_poblacion = np.argwhere(ponderado_poblacion==ponderado_poblacion.max())\n",
    "    ponderado_poblacion[indice_poblacion] = ponderado_poblacion[indice_poblacion] - 1\n",
    "    poblacion_intermedia[i]=(poblacion_inicial[indice_poblacion])\n",
    "poblacion_intermedia"
   ]
  },
  {
   "cell_type": "code",
   "execution_count": 12,
   "metadata": {},
   "outputs": [
    {
     "data": {
      "text/plain": [
       "(array([2, 4]),)"
      ]
     },
     "execution_count": 12,
     "metadata": {},
     "output_type": "execute_result"
    }
   ],
   "source": [
    "busqueda_error = np.sum(matriz_indices, axis=0)\n",
    "np.where(central==0)"
   ]
  },
  {
   "cell_type": "code",
   "execution_count": 13,
   "metadata": {},
   "outputs": [
    {
     "name": "stdout",
     "output_type": "stream",
     "text": [
      "[1, 1, 0, 1, 0, 1, 0, 0, 1, 1, 0, 0, 1, 1, 0]\n",
      "[1. 1. 1. 1. 0.]\n",
      "[1. 1. 0. 1. 0.]\n",
      "bandera 1: False, bandera 2: False\n"
     ]
    }
   ],
   "source": [
    "fila2 = poblacion_inicial[0]\n",
    "n2 = n\n",
    "fila = fila2.copy()\n",
    "fila = fila.tolist()\n",
    "conexiones = np.zeros(n)\n",
    "conexiones_centro = np.zeros(n)\n",
    "print(fila)\n",
    "centros = fila[:n]\n",
    "\n",
    "centros_flag = False\n",
    "nodoFlag = False\n",
    "if (np.sum(centros)== 0):\n",
    "    centros_flag = True\n",
    "else:\n",
    "    for i in range(len(centros)):\n",
    "        if centros[i] == 1:\n",
    "            conexiones_centro[i] = 1\n",
    "\n",
    "del fila [0:n2]\n",
    "\n",
    "if not centros_flag:\n",
    "    for i in range(n2-1):\n",
    "        n2 -=1 \n",
    "        nodo = fila[0:n2]\n",
    "        for j in range(len(nodo)):\n",
    "            if nodo[j]==1:\n",
    "                conexiones[i] = 1\n",
    "                conexiones[j+i] = 1\n",
    "        del fila [0:n2]\n",
    "else:\n",
    "    nodoFlag = True\n",
    "\n",
    "print(conexiones)\n",
    "print(conexiones_centro)\n",
    "print(f'bandera 1: {centros_flag}, bandera 2: {nodoFlag}')"
   ]
  },
  {
   "cell_type": "code",
   "execution_count": null,
   "metadata": {},
   "outputs": [],
   "source": []
  }
 ],
 "metadata": {
  "kernelspec": {
   "display_name": "Python 3.8.10 64-bit",
   "language": "python",
   "name": "python3"
  },
  "language_info": {
   "codemirror_mode": {
    "name": "ipython",
    "version": 3
   },
   "file_extension": ".py",
   "mimetype": "text/x-python",
   "name": "python",
   "nbconvert_exporter": "python",
   "pygments_lexer": "ipython3",
   "version": "3.8.10"
  },
  "orig_nbformat": 4,
  "vscode": {
   "interpreter": {
    "hash": "916dbcbb3f70747c44a77c7bcd40155683ae19c65e1c03b4aa3499c5328201f1"
   }
  }
 },
 "nbformat": 4,
 "nbformat_minor": 2
}
