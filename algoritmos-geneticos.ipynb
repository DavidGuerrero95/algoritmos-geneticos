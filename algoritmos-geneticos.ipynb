{
 "cells": [
  {
   "cell_type": "code",
   "execution_count": 173,
   "metadata": {},
   "outputs": [],
   "source": [
    "######### Importe librerias #########\n",
    "import numpy as np\n",
    "import math\n",
    "import pandas as pd"
   ]
  },
  {
   "cell_type": "code",
   "execution_count": 174,
   "metadata": {},
   "outputs": [],
   "source": [
    "######### Definicion valores #########\n",
    "n = 5\n",
    "tamaño_poblacion = 30\n",
    "probabilidad_cruce = 0.2\n",
    "probabilidad_mutacion = 0.02\n",
    "numero_conexiones = int((n+1)*(n)/2)\n",
    "posiciones = [np.array([0,0]) if i == 0 else np.random.randint(-30,30,2) for i in range(n+1)]\n",
    "mejor_fitness = [np.zeros(numero_conexiones),1e10]\n",
    "distancias = []\n",
    "for i in range(0,len(posiciones)):\n",
    "    for j in range(i,len(posiciones)):\n",
    "        if(j != i):\n",
    "            distancias.append(math.dist(posiciones[i],posiciones[j]))"
   ]
  },
  {
   "cell_type": "code",
   "execution_count": 175,
   "metadata": {},
   "outputs": [],
   "source": [
    "######### Poblacion inicial #########\n",
    "poblacion_inicial = np.random.randint(0,2,[tamaño_poblacion,numero_conexiones])"
   ]
  },
  {
   "cell_type": "code",
   "execution_count": 176,
   "metadata": {},
   "outputs": [],
   "source": [
    "######### Funcion error #########\n",
    "def funciones_penalizacion(genotipo,n):\n",
    "    #genotipo = poblacion_inicial[0]\n",
    "    #print(genotipo)\n",
    "    penalizacion_central = False\n",
    "    central = genotipo[:n]\n",
    "    penalizacion_desconexion = False\n",
    "    n_indice = n\n",
    "    indice_inicial = 0\n",
    "    indice_final = n_indice\n",
    "    matriz_indices = np.zeros([n,n])\n",
    "    for i in range(n):\n",
    "        contador = 0\n",
    "        valor = genotipo[indice_inicial:indice_final]\n",
    "        if i == 0:\n",
    "            central = valor\n",
    "            #print(central)\n",
    "            matriz_indices[n-1] = central\n",
    "            if(sum(central) == 0):\n",
    "                penalizacion_central = True\n",
    "                break\n",
    "        else:\n",
    "            for j in valor:\n",
    "                if j == 1:\n",
    "                    matriz_indices[i-1][i-1] = 1\n",
    "                    matriz_indices[i-1][i+contador] = 1\n",
    "                contador += 1\n",
    "        n_indice -= 1\n",
    "        indice_inicial = indice_final\n",
    "        indice_final = indice_final + n_indice\n",
    "    busqueda_error = np.sum(matriz_indices, axis=0)\n",
    "    #print(busqueda_error)\n",
    "    if 0 in busqueda_error:\n",
    "       penalizacion_desconexion = True\n",
    "    if not penalizacion_central:\n",
    "        None\n",
    "    print(matriz_indices)\n",
    "    #central = np.array(central)\n",
    "    #print(penalizacion_central,penalizacion_desconexion)\n",
    "    return penalizacion_central or penalizacion_desconexion, matriz_indices,central\n",
    "\n",
    "    "
   ]
  },
  {
   "cell_type": "code",
   "execution_count": 223,
   "metadata": {},
   "outputs": [
    {
     "name": "stdout",
     "output_type": "stream",
     "text": [
      "[0, 0, 0, 1, 0, 1, 0, 0, 1, 1, 0, 1, 0, 1, 0]\n",
      "[[1. 1. 0. 0. 1.]\n",
      " [0. 1. 1. 0. 1.]\n",
      " [0. 0. 1. 0. 1.]\n",
      " [0. 0. 0. 0. 0.]\n",
      " [0. 0. 0. 1. 0.]]\n",
      "primer: [3]\n",
      "fila: [0. 0. 0. 0. 0.]\n",
      "columna: [0. 0. 0. 0. 1.]\n",
      "indices fila: []\n",
      "indices columna: []\n",
      "conexion_central:[0 0 0 1 0]\n",
      "conexion_central:[0 0 0 1 0]\n",
      "indices conexion:[3]\n",
      "contador unos:1\n",
      "fila: [0. 0. 0. 0. 0.]\n",
      "columna: [0. 0. 0. 0. 1.]\n",
      "indices fila: []\n",
      "indices columna: []\n",
      "conexion_central:[0 0 0 1 0]\n",
      "conexion_central:[0 0 0 1 0]\n",
      "indices conexion:[3]\n",
      "contador unos:1\n",
      "[0 0 0 1 0]\n"
     ]
    },
    {
     "data": {
      "text/plain": [
       "'for i in indices_conexion:\\n    fila = np.array(matriz_indices[i])[0]\\n    print(fila)\\n    indices_fila = np.where(fila==1)[0]\\n    for j in range(1,len(indices_fila)):\\n        conexion_central[indices_fila[j]]=1'"
      ]
     },
     "execution_count": 223,
     "metadata": {},
     "output_type": "execute_result"
    }
   ],
   "source": [
    "vector_prueba = [0,0,0,1,0,1,0,0,1,1,0,1,0,1,0]\n",
    "#vector_prueba = poblacion_inicial[0]\n",
    "print(vector_prueba)\n",
    "a,matriz_indices,central = funciones_penalizacion(vector_prueba,n)\n",
    "if not a:\n",
    "    conexion_central = np.array([1 if x==1 else 0 for x in central])\n",
    "    indices_conexion = np.where(conexion_central==1)[0]\n",
    "    print(f'primer: {indices_conexion}')\n",
    "    contador_unos = len(indices_conexion)\n",
    "    contador = 0\n",
    "    while contador <= contador_unos:\n",
    "        for i in indices_conexion:\n",
    "            fila = np.array(matriz_indices[i])\n",
    "            print(f'fila: {fila}')\n",
    "            columna = np.array(matriz_indices[:,i].T)\n",
    "            print(f'columna: {columna}')\n",
    "            indices_fila = np.where(fila==1)[0]\n",
    "            print(f'indices fila: {indices_fila}')\n",
    "            indices_columna = np.where(columna[:-1]==1)[0]\n",
    "            print(f'indices columna: {indices_columna}')\n",
    "            print(f'conexion_central:{conexion_central}')\n",
    "            for j in indices_fila:\n",
    "                conexion_central[j]=1\n",
    "            for k in indices_columna:\n",
    "                conexion_central[k]=1\n",
    "            print(f'conexion_central:{conexion_central}')\n",
    "        indices_conexion = np.where(conexion_central==1)[0]\n",
    "        print(f'indices conexion:{indices_conexion}')\n",
    "        contador_unos = len(indices_conexion)\n",
    "        print(f'contador unos:{contador_unos}')\n",
    "        contador += 1\n",
    "        \n",
    "\n",
    "        \n",
    "    print(conexion_central)\n",
    "\"\"\"for i in indices_conexion:\n",
    "    fila = np.array(matriz_indices[i])[0]\n",
    "    print(fila)\n",
    "    indices_fila = np.where(fila==1)[0]\n",
    "    for j in range(1,len(indices_fila)):\n",
    "        conexion_central[indices_fila[j]]=1\"\"\"\n",
    "\n"
   ]
  },
  {
   "cell_type": "code",
   "execution_count": 178,
   "metadata": {},
   "outputs": [
    {
     "name": "stdout",
     "output_type": "stream",
     "text": [
      "[0 1 1 0 1 0 1 0 1 0 1 0 0 0 0]\n"
     ]
    },
    {
     "ename": "TypeError",
     "evalue": "funciones_penalizacion() missing 1 required positional argument: 'n'",
     "output_type": "error",
     "traceback": [
      "\u001b[0;31m---------------------------------------------------------------------------\u001b[0m",
      "\u001b[0;31mTypeError\u001b[0m                                 Traceback (most recent call last)",
      "\u001b[1;32m/home/sistemic/Documents/12vo_Semestre/FundamentosIC/Tarea4/algoritmos-geneticos.ipynb Cell 6\u001b[0m in \u001b[0;36m<cell line: 2>\u001b[0;34m()\u001b[0m\n\u001b[1;32m      <a href='vscode-notebook-cell:/home/sistemic/Documents/12vo_Semestre/FundamentosIC/Tarea4/algoritmos-geneticos.ipynb#X13sZmlsZQ%3D%3D?line=1'>2</a>\u001b[0m \u001b[39mfor\u001b[39;00m i \u001b[39min\u001b[39;00m poblacion_inicial: \u001b[39m## verifica conexiones\u001b[39;00m\n\u001b[1;32m      <a href='vscode-notebook-cell:/home/sistemic/Documents/12vo_Semestre/FundamentosIC/Tarea4/algoritmos-geneticos.ipynb#X13sZmlsZQ%3D%3D?line=2'>3</a>\u001b[0m     \u001b[39mprint\u001b[39m(i)\n\u001b[0;32m----> <a href='vscode-notebook-cell:/home/sistemic/Documents/12vo_Semestre/FundamentosIC/Tarea4/algoritmos-geneticos.ipynb#X13sZmlsZQ%3D%3D?line=3'>4</a>\u001b[0m     vector_penalizacion\u001b[39m.\u001b[39mappend(funciones_penalizacion(i))\n\u001b[1;32m      <a href='vscode-notebook-cell:/home/sistemic/Documents/12vo_Semestre/FundamentosIC/Tarea4/algoritmos-geneticos.ipynb#X13sZmlsZQ%3D%3D?line=4'>5</a>\u001b[0m penalizacion \u001b[39m=\u001b[39m [\u001b[39m2000\u001b[39m \u001b[39mif\u001b[39;00m i \u001b[39melse\u001b[39;00m \u001b[39m1\u001b[39m \u001b[39mfor\u001b[39;00m i \u001b[39min\u001b[39;00m vector_penalizacion]\n",
      "\u001b[0;31mTypeError\u001b[0m: funciones_penalizacion() missing 1 required positional argument: 'n'"
     ]
    }
   ],
   "source": [
    "vector_penalizacion = []        \n",
    "for i in poblacion_inicial: ## verifica conexiones\n",
    "    print(i)\n",
    "    vector_penalizacion.append(funciones_penalizacion(i))\n",
    "penalizacion = [2000 if i else 1 for i in vector_penalizacion] ## Penaliza con un valor de 2000 si no se hacen todas las conexiones"
   ]
  },
  {
   "cell_type": "code",
   "execution_count": null,
   "metadata": {},
   "outputs": [],
   "source": [
    "def metricas(poblacion,distancias):\n",
    "    fitness = np.dot(poblacion_inicial,distancias)  ## Calcula funcion fitness\n",
    "    fitness = fitness*penalizacion\n",
    "    fitness_generacion = fitness.sum()\n",
    "    fitness_average = fitness/fitness_generacion\n",
    "    suma_fitness_average = fitness_average.sum()\n",
    "    maximo_fitness = 1-fitness_average\n",
    "    ponderado = maximo_fitness*tamaño_poblacion\n",
    "    tabla_promedio = pd.DataFrame({'fitness':fitness,'f/sum':fitness_average,'Max':maximo_fitness,'fi/f * tpobl':ponderado})\n",
    "    print(tabla_promedio.head())\n",
    "    return ponderado,fitness.min(),np.argwhere(fitness==fitness.min())\n"
   ]
  },
  {
   "cell_type": "code",
   "execution_count": null,
   "metadata": {},
   "outputs": [
    {
     "name": "stdout",
     "output_type": "stream",
     "text": [
      "         fitness     f/sum       Max  fi/f * tpobl\n",
      "0  471963.308855  0.032664  0.967336     29.020086\n",
      "1  657390.324486  0.045497  0.954503     28.635093\n",
      "2  586009.553019  0.040557  0.959443     28.783298\n",
      "3  376419.066821  0.026051  0.973949     29.218460\n",
      "4  378590.812674  0.026202  0.973798     29.213951\n",
      "[1. 1. 0. 1. 0. 0. 1. 1. 0. 1. 1. 0. 1. 0. 1.]\n",
      "[1. 1. 0. 1. 0. 0. 1. 1. 0. 1. 1. 0. 1. 0. 1.]\n"
     ]
    },
    {
     "ename": "TypeError",
     "evalue": "only integer scalar arrays can be converted to a scalar index",
     "output_type": "error",
     "traceback": [
      "\u001b[0;31m---------------------------------------------------------------------------\u001b[0m",
      "\u001b[0;31mTypeError\u001b[0m                                 Traceback (most recent call last)",
      "\u001b[1;32m/home/sistemic/Documents/12vo_Semestre/FundamentosIC/Tarea4/algoritmos-geneticos.ipynb Cell 8\u001b[0m in \u001b[0;36m<cell line: 22>\u001b[0;34m()\u001b[0m\n\u001b[1;32m     <a href='vscode-notebook-cell:/home/sistemic/Documents/12vo_Semestre/FundamentosIC/Tarea4/algoritmos-geneticos.ipynb#X15sZmlsZQ%3D%3D?line=19'>20</a>\u001b[0m a \u001b[39m=\u001b[39m poblacion_intermedia[valor_cruce1]\n\u001b[1;32m     <a href='vscode-notebook-cell:/home/sistemic/Documents/12vo_Semestre/FundamentosIC/Tarea4/algoritmos-geneticos.ipynb#X15sZmlsZQ%3D%3D?line=20'>21</a>\u001b[0m b \u001b[39m=\u001b[39m poblacion_intermedia[valor_cruce2]\n\u001b[0;32m---> <a href='vscode-notebook-cell:/home/sistemic/Documents/12vo_Semestre/FundamentosIC/Tarea4/algoritmos-geneticos.ipynb#X15sZmlsZQ%3D%3D?line=21'>22</a>\u001b[0m poblacion_intermedia[valor_cruce1] \u001b[39m=\u001b[39m np\u001b[39m.\u001b[39;49mconcatenate(a[:punto_cruce],b[punto_cruce:])\n\u001b[1;32m     <a href='vscode-notebook-cell:/home/sistemic/Documents/12vo_Semestre/FundamentosIC/Tarea4/algoritmos-geneticos.ipynb#X15sZmlsZQ%3D%3D?line=22'>23</a>\u001b[0m poblacion_intermedia[valor_cruce2] \u001b[39m=\u001b[39m np\u001b[39m.\u001b[39mconcatenate(b[:punto_cruce],a[punto_cruce:])\n\u001b[1;32m     <a href='vscode-notebook-cell:/home/sistemic/Documents/12vo_Semestre/FundamentosIC/Tarea4/algoritmos-geneticos.ipynb#X15sZmlsZQ%3D%3D?line=23'>24</a>\u001b[0m \u001b[39mprint\u001b[39m(poblacion_intermedia[valor_cruce1])\n",
      "File \u001b[0;32m<__array_function__ internals>:180\u001b[0m, in \u001b[0;36mconcatenate\u001b[0;34m(*args, **kwargs)\u001b[0m\n",
      "\u001b[0;31mTypeError\u001b[0m: only integer scalar arrays can be converted to a scalar index"
     ]
    }
   ],
   "source": [
    "ponderado_poblacion,fitness,posicion_fitness = metricas(poblacion_inicial,distancias)\n",
    "if(fitness<mejor_fitness[1]):\n",
    "    mejor_fitness = [poblacion_inicial[posicion_fitness[0][0]],fitness]\n",
    "\n",
    "poblacion_intermedia = np.zeros([tamaño_poblacion,numero_conexiones])\n",
    "for i in range(len(ponderado_poblacion)):\n",
    "    indice_poblacion = np.argwhere(ponderado_poblacion==ponderado_poblacion.max())\n",
    "    ponderado_poblacion[indice_poblacion] = ponderado_poblacion[indice_poblacion] - 1\n",
    "    poblacion_intermedia[i]=(poblacion_inicial[indice_poblacion])\n",
    "\n",
    "valor_cruce1 = np.random.randint(0,tamaño_poblacion)\n",
    "cruce = np.random.randint(0,tamaño_poblacion)\n",
    "while(cruce != valor_cruce1):\n",
    "    cruce = np.random.randint(0,tamaño_poblacion)\n",
    "valor_cruce2 = cruce\n",
    "punto_cruce = np.random.randint(1,numero_conexiones)\n",
    "\n",
    "print(poblacion_intermedia[valor_cruce1])\n",
    "print(poblacion_intermedia[valor_cruce2])\n",
    "a = poblacion_intermedia[valor_cruce1]\n",
    "b = poblacion_intermedia[valor_cruce2]\n",
    "poblacion_intermedia[valor_cruce1] = np.concatenate(a[:punto_cruce],b[punto_cruce:])\n",
    "poblacion_intermedia[valor_cruce2] = np.concatenate(b[:punto_cruce],a[punto_cruce:])\n",
    "print(poblacion_intermedia[valor_cruce1])\n",
    "print(poblacion_intermedia[valor_cruce2])\n"
   ]
  },
  {
   "cell_type": "code",
   "execution_count": null,
   "metadata": {},
   "outputs": [],
   "source": [
    "#[0,0,1,0,0,1,0,0,0,0,1,1,0,1,1]\n",
    "#[0,0,0,0,1,0,1,0,0,0,1,1,0,0,0]##"
   ]
  },
  {
   "cell_type": "code",
   "execution_count": null,
   "metadata": {},
   "outputs": [
    {
     "ename": "NameError",
     "evalue": "name 'matriz_indices' is not defined",
     "output_type": "error",
     "traceback": [
      "\u001b[0;31m---------------------------------------------------------------------------\u001b[0m",
      "\u001b[0;31mNameError\u001b[0m                                 Traceback (most recent call last)",
      "\u001b[1;32m/home/sistemic/Documents/12vo_Semestre/FundamentosIC/Tarea4/algoritmos-geneticos.ipynb Cell 8\u001b[0m in \u001b[0;36m<cell line: 1>\u001b[0;34m()\u001b[0m\n\u001b[0;32m----> <a href='vscode-notebook-cell:/home/sistemic/Documents/12vo_Semestre/FundamentosIC/Tarea4/algoritmos-geneticos.ipynb#X16sZmlsZQ%3D%3D?line=0'>1</a>\u001b[0m busqueda_error \u001b[39m=\u001b[39m np\u001b[39m.\u001b[39msum(matriz_indices, axis\u001b[39m=\u001b[39m\u001b[39m0\u001b[39m)\n\u001b[1;32m      <a href='vscode-notebook-cell:/home/sistemic/Documents/12vo_Semestre/FundamentosIC/Tarea4/algoritmos-geneticos.ipynb#X16sZmlsZQ%3D%3D?line=1'>2</a>\u001b[0m np\u001b[39m.\u001b[39mwhere(central\u001b[39m==\u001b[39m\u001b[39m0\u001b[39m)\n",
      "\u001b[0;31mNameError\u001b[0m: name 'matriz_indices' is not defined"
     ]
    }
   ],
   "source": [
    "busqueda_error = np.sum(matriz_indices, axis=0)\n",
    "np.where(central==0)"
   ]
  },
  {
   "cell_type": "code",
   "execution_count": null,
   "metadata": {},
   "outputs": [
    {
     "name": "stdout",
     "output_type": "stream",
     "text": [
      "[1, 1, 0, 1, 0, 1, 0, 0, 1, 1, 0, 0, 1, 1, 0]\n",
      "[1. 1. 1. 1. 0.]\n",
      "[1. 1. 0. 1. 0.]\n",
      "bandera 1: False, bandera 2: False\n"
     ]
    }
   ],
   "source": [
    "fila2 = poblacion_inicial[0]\n",
    "n2 = n\n",
    "fila = fila2.copy()\n",
    "fila = fila.tolist()\n",
    "conexiones = np.zeros(n)\n",
    "conexiones_centro = np.zeros(n)\n",
    "print(fila)\n",
    "centros = fila[:n]\n",
    "\n",
    "centros_flag = False\n",
    "nodoFlag = False\n",
    "if (np.sum(centros)== 0):\n",
    "    centros_flag = True\n",
    "else:\n",
    "    for i in range(len(centros)):\n",
    "        if centros[i] == 1:\n",
    "            conexiones_centro[i] = 1\n",
    "\n",
    "del fila [0:n2]\n",
    "\n",
    "if not centros_flag:\n",
    "    for i in range(n2-1):\n",
    "        n2 -=1 \n",
    "        nodo = fila[0:n2]\n",
    "        for j in range(len(nodo)):\n",
    "            if nodo[j]==1:\n",
    "                conexiones[i] = 1\n",
    "                conexiones[j+i] = 1\n",
    "        del fila [0:n2]\n",
    "else:\n",
    "    nodoFlag = True\n",
    "\n",
    "print(conexiones)\n",
    "print(conexiones_centro)\n",
    "print(f'bandera 1: {centros_flag}, bandera 2: {nodoFlag}')"
   ]
  },
  {
   "cell_type": "code",
   "execution_count": null,
   "metadata": {},
   "outputs": [],
   "source": []
  }
 ],
 "metadata": {
  "kernelspec": {
   "display_name": "Python 3.8.10 64-bit",
   "language": "python",
   "name": "python3"
  },
  "language_info": {
   "codemirror_mode": {
    "name": "ipython",
    "version": 3
   },
   "file_extension": ".py",
   "mimetype": "text/x-python",
   "name": "python",
   "nbconvert_exporter": "python",
   "pygments_lexer": "ipython3",
   "version": "3.8.10"
  },
  "orig_nbformat": 4,
  "vscode": {
   "interpreter": {
    "hash": "916dbcbb3f70747c44a77c7bcd40155683ae19c65e1c03b4aa3499c5328201f1"
   }
  }
 },
 "nbformat": 4,
 "nbformat_minor": 2
}
